{
 "cells": [
  {
   "cell_type": "markdown",
   "id": "ab46e4d0",
   "metadata": {},
   "source": [
    "# Average Minutes & Number of Log-Ins"
   ]
  },
  {
   "cell_type": "code",
   "execution_count": 1,
   "id": "63d912fc",
   "metadata": {},
   "outputs": [],
   "source": [
    "import pandas as pd\n",
    "import numpy as np\n",
    "from sklearn.linear_model import LinearRegression\n",
    "from scipy.stats import linregress\n",
    "import matplotlib.pyplot as plt"
   ]
  },
  {
   "cell_type": "code",
   "execution_count": 2,
   "id": "2e39eca8",
   "metadata": {},
   "outputs": [],
   "source": [
    "data = pd.read_csv (r'C:\\Users\\liadb\\DatasetsForPython\\times_logged_in_avg_minutes.csv')"
   ]
  },
  {
   "cell_type": "code",
   "execution_count": 3,
   "id": "864831c4",
   "metadata": {},
   "outputs": [
    {
     "data": {
      "text/html": [
       "<div>\n",
       "<style scoped>\n",
       "    .dataframe tbody tr th:only-of-type {\n",
       "        vertical-align: middle;\n",
       "    }\n",
       "\n",
       "    .dataframe tbody tr th {\n",
       "        vertical-align: top;\n",
       "    }\n",
       "\n",
       "    .dataframe thead th {\n",
       "        text-align: right;\n",
       "    }\n",
       "</style>\n",
       "<table border=\"1\" class=\"dataframe\">\n",
       "  <thead>\n",
       "    <tr style=\"text-align: right;\">\n",
       "      <th></th>\n",
       "      <th>user_id</th>\n",
       "      <th>TimesLoggedIn</th>\n",
       "      <th>Avg_Minutes</th>\n",
       "    </tr>\n",
       "  </thead>\n",
       "  <tbody>\n",
       "    <tr>\n",
       "      <th>0</th>\n",
       "      <td>10000</td>\n",
       "      <td>5</td>\n",
       "      <td>39.800000</td>\n",
       "    </tr>\n",
       "    <tr>\n",
       "      <th>1</th>\n",
       "      <td>10002</td>\n",
       "      <td>6</td>\n",
       "      <td>54.833333</td>\n",
       "    </tr>\n",
       "    <tr>\n",
       "      <th>2</th>\n",
       "      <td>10003</td>\n",
       "      <td>1</td>\n",
       "      <td>7.000000</td>\n",
       "    </tr>\n",
       "    <tr>\n",
       "      <th>3</th>\n",
       "      <td>10004</td>\n",
       "      <td>3</td>\n",
       "      <td>45.333333</td>\n",
       "    </tr>\n",
       "    <tr>\n",
       "      <th>4</th>\n",
       "      <td>10005</td>\n",
       "      <td>2</td>\n",
       "      <td>37.500000</td>\n",
       "    </tr>\n",
       "  </tbody>\n",
       "</table>\n",
       "</div>"
      ],
      "text/plain": [
       "   user_id  TimesLoggedIn  Avg_Minutes\n",
       "0    10000              5    39.800000\n",
       "1    10002              6    54.833333\n",
       "2    10003              1     7.000000\n",
       "3    10004              3    45.333333\n",
       "4    10005              2    37.500000"
      ]
     },
     "execution_count": 3,
     "metadata": {},
     "output_type": "execute_result"
    }
   ],
   "source": [
    "data.head()"
   ]
  },
  {
   "cell_type": "code",
   "execution_count": 4,
   "id": "0c42ea59",
   "metadata": {},
   "outputs": [],
   "source": [
    "x = np.array(data['TimesLoggedIn'])\n",
    "y = np.array(data['Avg_Minutes'])"
   ]
  },
  {
   "cell_type": "code",
   "execution_count": 5,
   "id": "584bfd4b",
   "metadata": {},
   "outputs": [
    {
     "name": "stdout",
     "output_type": "stream",
     "text": [
      "Pearson Correlation Coefficient: 0.014711180260143975\n"
     ]
    }
   ],
   "source": [
    "# Given data\n",
    "TimesLoggedIn = np.array(x)\n",
    "Avg_Minutes = np.array(y)\n",
    "\n",
    "# Calculate Pearson correlation coefficient\n",
    "correlation_coefficient = np.corrcoef(TimesLoggedIn, Avg_Minutes)[0, 1]\n",
    "\n",
    "# Print the correlation coefficient\n",
    "print(\"Pearson Correlation Coefficient:\", correlation_coefficient)"
   ]
  },
  {
   "cell_type": "markdown",
   "id": "c5ecdea1",
   "metadata": {},
   "source": [
    "# Number of Diffrent Users & Total Game Currency"
   ]
  },
  {
   "cell_type": "code",
   "execution_count": 6,
   "id": "8d5a4be7",
   "metadata": {},
   "outputs": [],
   "source": [
    "data = pd.read_csv (r'C:\\Users\\liadb\\DatasetsForPython\\CrabCoinsRunningTotal.csv')"
   ]
  },
  {
   "cell_type": "code",
   "execution_count": 7,
   "id": "7f9bacc6",
   "metadata": {},
   "outputs": [
    {
     "data": {
      "text/html": [
       "<div>\n",
       "<style scoped>\n",
       "    .dataframe tbody tr th:only-of-type {\n",
       "        vertical-align: middle;\n",
       "    }\n",
       "\n",
       "    .dataframe tbody tr th {\n",
       "        vertical-align: top;\n",
       "    }\n",
       "\n",
       "    .dataframe thead th {\n",
       "        text-align: right;\n",
       "    }\n",
       "</style>\n",
       "<table border=\"1\" class=\"dataframe\">\n",
       "  <thead>\n",
       "    <tr style=\"text-align: right;\">\n",
       "      <th></th>\n",
       "      <th>Month</th>\n",
       "      <th>Count</th>\n",
       "      <th>TotalCrabCoins</th>\n",
       "    </tr>\n",
       "  </thead>\n",
       "  <tbody>\n",
       "    <tr>\n",
       "      <th>0</th>\n",
       "      <td>1</td>\n",
       "      <td>94</td>\n",
       "      <td>405750</td>\n",
       "    </tr>\n",
       "    <tr>\n",
       "      <th>1</th>\n",
       "      <td>2</td>\n",
       "      <td>120</td>\n",
       "      <td>1165250</td>\n",
       "    </tr>\n",
       "    <tr>\n",
       "      <th>2</th>\n",
       "      <td>3</td>\n",
       "      <td>99</td>\n",
       "      <td>1494000</td>\n",
       "    </tr>\n",
       "    <tr>\n",
       "      <th>3</th>\n",
       "      <td>4</td>\n",
       "      <td>86</td>\n",
       "      <td>1914500</td>\n",
       "    </tr>\n",
       "    <tr>\n",
       "      <th>4</th>\n",
       "      <td>5</td>\n",
       "      <td>111</td>\n",
       "      <td>2277500</td>\n",
       "    </tr>\n",
       "  </tbody>\n",
       "</table>\n",
       "</div>"
      ],
      "text/plain": [
       "   Month  Count  TotalCrabCoins\n",
       "0      1     94          405750\n",
       "1      2    120         1165250\n",
       "2      3     99         1494000\n",
       "3      4     86         1914500\n",
       "4      5    111         2277500"
      ]
     },
     "execution_count": 7,
     "metadata": {},
     "output_type": "execute_result"
    }
   ],
   "source": [
    "data.head()"
   ]
  },
  {
   "cell_type": "code",
   "execution_count": 8,
   "id": "94b90481",
   "metadata": {},
   "outputs": [],
   "source": [
    "x = np.array(data['Count'])\n",
    "y = np.array(data['TotalCrabCoins'])\n",
    "z = np.array(data['Month'])"
   ]
  },
  {
   "cell_type": "code",
   "execution_count": 9,
   "id": "17b8bfcc",
   "metadata": {},
   "outputs": [
    {
     "data": {
      "image/png": "[encoded data removed]",
      "text/plain": [
       "<Figure size 640x480 with 1 Axes>"
      ]
     },
     "metadata": {},
     "output_type": "display_data"
    },
    {
     "name": "stdout",
     "output_type": "stream",
     "text": [
      "Slope: 61351.623661431004\n",
      "Intercept: -4064964.833082308\n",
      "R-squared: 0.5158445387651833\n"
     ]
    }
   ],
   "source": [
    "# Given data\n",
    "months = np.array(z)\n",
    "count = np.array(x)\n",
    "total_crab_coins = np.array(y)\n",
    "\n",
    "# Perform linear regression\n",
    "slope, intercept, r_value, p_value, std_err = linregress(count, total_crab_coins)\n",
    "\n",
    "# Calculate predicted values using the linear equation\n",
    "predicted_values = slope * count + intercept\n",
    "\n",
    "# Plot the original data and the regression line\n",
    "plt.scatter(count, total_crab_coins, label=\"Actual Data\")\n",
    "plt.plot(count, predicted_values, color='red', label=\"Linear Regression Line\")\n",
    "plt.xlabel(\"Distinct_Users\")\n",
    "plt.ylabel(\"TotalCrabCoins In-Game (By Millions)\")\n",
    "plt.title(\"Linear Regression: Distinct_Users vs Total_Crab_Coins\")\n",
    "plt.legend()\n",
    "plt.show()\n",
    "\n",
    "# Display regression parameters\n",
    "print(\"Slope:\", slope)\n",
    "print(\"Intercept:\", intercept)\n",
    "print(\"R-squared:\", r_value ** 2)"
   ]
  },
  {
   "cell_type": "markdown",
   "id": "f0c59b1f",
   "metadata": {},
   "source": [
    "# Number of Actions User Made & His Game Currency Balance"
   ]
  },
  {
   "cell_type": "code",
   "execution_count": 10,
   "id": "a86904f4",
   "metadata": {},
   "outputs": [],
   "source": [
    "data = pd.read_csv (r'C:\\Users\\liadb\\DatasetsForPython\\Num_Actions_Total_Crab_Coins.csv')"
   ]
  },
  {
   "cell_type": "code",
   "execution_count": 11,
   "id": "4e449669",
   "metadata": {},
   "outputs": [
    {
     "data": {
      "text/html": [
       "<div>\n",
       "<style scoped>\n",
       "    .dataframe tbody tr th:only-of-type {\n",
       "        vertical-align: middle;\n",
       "    }\n",
       "\n",
       "    .dataframe tbody tr th {\n",
       "        vertical-align: top;\n",
       "    }\n",
       "\n",
       "    .dataframe thead th {\n",
       "        text-align: right;\n",
       "    }\n",
       "</style>\n",
       "<table border=\"1\" class=\"dataframe\">\n",
       "  <thead>\n",
       "    <tr style=\"text-align: right;\">\n",
       "      <th></th>\n",
       "      <th>user_id</th>\n",
       "      <th>NumberOfActions</th>\n",
       "      <th>Total_Crab_Coins</th>\n",
       "    </tr>\n",
       "  </thead>\n",
       "  <tbody>\n",
       "    <tr>\n",
       "      <th>0</th>\n",
       "      <td>10001</td>\n",
       "      <td>4</td>\n",
       "      <td>80000</td>\n",
       "    </tr>\n",
       "    <tr>\n",
       "      <th>1</th>\n",
       "      <td>10004</td>\n",
       "      <td>2</td>\n",
       "      <td>8250</td>\n",
       "    </tr>\n",
       "    <tr>\n",
       "      <th>2</th>\n",
       "      <td>10008</td>\n",
       "      <td>2</td>\n",
       "      <td>1750</td>\n",
       "    </tr>\n",
       "    <tr>\n",
       "      <th>3</th>\n",
       "      <td>10011</td>\n",
       "      <td>3</td>\n",
       "      <td>31750</td>\n",
       "    </tr>\n",
       "    <tr>\n",
       "      <th>4</th>\n",
       "      <td>10019</td>\n",
       "      <td>2</td>\n",
       "      <td>41750</td>\n",
       "    </tr>\n",
       "  </tbody>\n",
       "</table>\n",
       "</div>"
      ],
      "text/plain": [
       "   user_id  NumberOfActions  Total_Crab_Coins\n",
       "0    10001                4             80000\n",
       "1    10004                2              8250\n",
       "2    10008                2              1750\n",
       "3    10011                3             31750\n",
       "4    10019                2             41750"
      ]
     },
     "execution_count": 11,
     "metadata": {},
     "output_type": "execute_result"
    }
   ],
   "source": [
    "data.head()"
   ]
  },
  {
   "cell_type": "code",
   "execution_count": 12,
   "id": "f21c4e6b",
   "metadata": {},
   "outputs": [],
   "source": [
    "x = np.array(data['NumberOfActions'])\n",
    "y = np.array(data['Total_Crab_Coins'])\n",
    "z = np.array(data['user_id'])"
   ]
  },
  {
   "cell_type": "code",
   "execution_count": 13,
   "id": "5e2a899e",
   "metadata": {},
   "outputs": [
    {
     "data": {
      "image/png": "[encoded data removed]",
      "text/plain": [
       "<Figure size 640x480 with 1 Axes>"
      ]
     },
     "metadata": {},
     "output_type": "display_data"
    },
    {
     "name": "stdout",
     "output_type": "stream",
     "text": [
      "Slope: 3620.8862488051304\n",
      "Intercept: 40284.992489416916\n",
      "R-squared: 0.018975813281307322\n"
     ]
    }
   ],
   "source": [
    "# Given data\n",
    "user_id = np.array(z)\n",
    "NumberOfActions = np.array(x)\n",
    "Total_Crab_Coins = np.array(y)\n",
    "\n",
    "# Perform linear regression\n",
    "slope, intercept, r_value, p_value, std_err = linregress(NumberOfActions, Total_Crab_Coins)\n",
    "\n",
    "# Calculate predicted values using the linear equation\n",
    "predicted_values = slope * NumberOfActions + intercept\n",
    "\n",
    "# Plot the original data and the regression line\n",
    "plt.scatter(NumberOfActions, Total_Crab_Coins, label=\"Actual Data\")\n",
    "plt.plot(NumberOfActions, predicted_values, color='red', label=\"Linear Regression Line\")\n",
    "plt.xlabel(\"NumberOfActions\")\n",
    "plt.ylabel(\"Total_Crab_Coins\")\n",
    "plt.title(\"Linear Regression: NumberOfActions vs Total_Crab_Coins\")\n",
    "plt.legend()\n",
    "plt.show()\n",
    "\n",
    "# Display regression parameters\n",
    "print(\"Slope:\", slope)\n",
    "print(\"Intercept:\", intercept)\n",
    "print(\"R-squared:\", r_value ** 2)"
   ]
  },
  {
   "cell_type": "markdown",
   "id": "1ea20dc8",
   "metadata": {},
   "source": [
    "# Game Currency Generated VS Game Currency Spent"
   ]
  },
  {
   "cell_type": "code",
   "execution_count": 14,
   "id": "b6a94898",
   "metadata": {},
   "outputs": [],
   "source": [
    "data = pd.read_csv (r'C:\\Users\\liadb\\DatasetsForPython\\game_sinks.csv')"
   ]
  },
  {
   "cell_type": "code",
   "execution_count": 15,
   "id": "7560b6c1",
   "metadata": {},
   "outputs": [
    {
     "data": {
      "text/html": [
       "<div>\n",
       "<style scoped>\n",
       "    .dataframe tbody tr th:only-of-type {\n",
       "        vertical-align: middle;\n",
       "    }\n",
       "\n",
       "    .dataframe tbody tr th {\n",
       "        vertical-align: top;\n",
       "    }\n",
       "\n",
       "    .dataframe thead th {\n",
       "        text-align: right;\n",
       "    }\n",
       "</style>\n",
       "<table border=\"1\" class=\"dataframe\">\n",
       "  <thead>\n",
       "    <tr style=\"text-align: right;\">\n",
       "      <th></th>\n",
       "      <th>user_id</th>\n",
       "      <th>Coins_Made</th>\n",
       "      <th>Coins_Spent</th>\n",
       "    </tr>\n",
       "  </thead>\n",
       "  <tbody>\n",
       "    <tr>\n",
       "      <th>0</th>\n",
       "      <td>10001</td>\n",
       "      <td>100000</td>\n",
       "      <td>-20000</td>\n",
       "    </tr>\n",
       "    <tr>\n",
       "      <th>1</th>\n",
       "      <td>10004</td>\n",
       "      <td>10000</td>\n",
       "      <td>-1750</td>\n",
       "    </tr>\n",
       "    <tr>\n",
       "      <th>2</th>\n",
       "      <td>10008</td>\n",
       "      <td>10000</td>\n",
       "      <td>-8250</td>\n",
       "    </tr>\n",
       "    <tr>\n",
       "      <th>3</th>\n",
       "      <td>10011</td>\n",
       "      <td>50000</td>\n",
       "      <td>-18250</td>\n",
       "    </tr>\n",
       "    <tr>\n",
       "      <th>4</th>\n",
       "      <td>10019</td>\n",
       "      <td>50000</td>\n",
       "      <td>-8250</td>\n",
       "    </tr>\n",
       "  </tbody>\n",
       "</table>\n",
       "</div>"
      ],
      "text/plain": [
       "   user_id  Coins_Made  Coins_Spent\n",
       "0    10001      100000       -20000\n",
       "1    10004       10000        -1750\n",
       "2    10008       10000        -8250\n",
       "3    10011       50000       -18250\n",
       "4    10019       50000        -8250"
      ]
     },
     "execution_count": 15,
     "metadata": {},
     "output_type": "execute_result"
    }
   ],
   "source": [
    "data.head()"
   ]
  },
  {
   "cell_type": "code",
   "execution_count": 16,
   "id": "ce5338d4",
   "metadata": {},
   "outputs": [],
   "source": [
    "x = np.array(data['Coins_Made'])\n",
    "y = np.array(data['Coins_Spent'])"
   ]
  },
  {
   "cell_type": "code",
   "execution_count": 17,
   "id": "7898b0a6",
   "metadata": {},
   "outputs": [
    {
     "name": "stdout",
     "output_type": "stream",
     "text": [
      "Pearson Correlation Coefficient: -0.301911789251509\n"
     ]
    }
   ],
   "source": [
    "# Given data\n",
    "Coins_Made = np.array(x)\n",
    "Coins_Spent = np.array(y)\n",
    "\n",
    "# Calculate Pearson correlation coefficient\n",
    "correlation_coefficient = np.corrcoef(Coins_Made, Coins_Spent)[0, 1]\n",
    "\n",
    "# Print the correlation coefficient\n",
    "print(\"Pearson Correlation Coefficient:\", correlation_coefficient)"
   ]
  }
 ],
 "metadata": {
  "kernelspec": {
   "display_name": "Python 3 (ipykernel)",
   "language": "python",
   "name": "python3"
  },
  "language_info": {
   "codemirror_mode": {
    "name": "ipython",
    "version": 3
   },
   "file_extension": ".py",
   "mimetype": "text/x-python",
   "name": "python",
   "nbconvert_exporter": "python",
   "pygments_lexer": "ipython3",
   "version": "3.10.9"
  }
 },
 "nbformat": 4,
 "nbformat_minor": 5
}
